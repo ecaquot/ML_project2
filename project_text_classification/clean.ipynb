{
 "cells": [
  {
   "cell_type": "code",
   "execution_count": 40,
   "metadata": {},
   "outputs": [],
   "source": [
    "import pandas as pd\n",
    "import numpy as np"
   ]
  },
  {
   "cell_type": "markdown",
   "metadata": {},
   "source": [
    "Load datasets"
   ]
  },
  {
   "cell_type": "code",
   "execution_count": 25,
   "metadata": {},
   "outputs": [],
   "source": [
    "pos_df = pd.read_csv(\"Datasets/twitter-datasets/train_pos_full.txt\", delimiter=\"\\\\n\", header=None, \n",
    "                     names = [\"tweets\"], engine='python')\n",
    "neg_df = pd.read_csv(\"Datasets/twitter-datasets/train_neg_full.txt\", delimiter=\"\\\\n\", header=None, \n",
    "                     names = [\"tweets\"], engine='python')"
   ]
  },
  {
   "cell_type": "markdown",
   "metadata": {},
   "source": [
    "Remove `<user>`"
   ]
  },
  {
   "cell_type": "code",
   "execution_count": 26,
   "metadata": {},
   "outputs": [],
   "source": [
    "pos_df[\"tweets\"] = pos_df[\"tweets\"].str.replace(\"<user> \", \"\")\n",
    "neg_df[\"tweets\"] = neg_df[\"tweets\"].str.replace(\"<user> \", \"\")"
   ]
  },
  {
   "cell_type": "markdown",
   "metadata": {},
   "source": [
    "Remove duplicate tweets"
   ]
  },
  {
   "cell_type": "code",
   "execution_count": 37,
   "metadata": {},
   "outputs": [],
   "source": [
    "pos_df = pos_df.drop_duplicates(subset=[\"tweets\"])\n",
    "neg_df = neg_df.drop_duplicates(subset=[\"tweets\"])"
   ]
  },
  {
   "cell_type": "markdown",
   "metadata": {},
   "source": [
    "Write back to disk"
   ]
  },
  {
   "cell_type": "code",
   "execution_count": 45,
   "metadata": {},
   "outputs": [],
   "source": [
    "np.savetxt(\"Datasets/twitter-datasets/train_pos_full_cleaned.txt\", pos_df.values, fmt='%s')\n",
    "np.savetxt(\"Datasets/twitter-datasets/train_neg_full_cleaned.txt\", neg_df.values, fmt='%s')"
   ]
  }
 ],
 "metadata": {
  "kernelspec": {
   "display_name": "Python 3",
   "language": "python",
   "name": "python3"
  },
  "language_info": {
   "codemirror_mode": {
    "name": "ipython",
    "version": 3
   },
   "file_extension": ".py",
   "mimetype": "text/x-python",
   "name": "python",
   "nbconvert_exporter": "python",
   "pygments_lexer": "ipython3",
   "version": "3.7.4"
  }
 },
 "nbformat": 4,
 "nbformat_minor": 2
}
