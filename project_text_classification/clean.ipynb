{
 "cells": [
  {
   "cell_type": "code",
   "execution_count": 1,
   "metadata": {},
   "outputs": [
    {
     "name": "stderr",
     "output_type": "stream",
     "text": [
      "/Users/etienne/anaconda3/lib/python3.7/site-packages/ipykernel_launcher.py:13: TqdmExperimentalWarning: Using `tqdm.autonotebook.tqdm` in notebook mode. Use `tqdm.tqdm` instead to force console mode (e.g. in jupyter console)\n",
      "  del sys.path[0]\n"
     ]
    }
   ],
   "source": [
    "import pandas as pd\n",
    "import numpy as np\n",
    "import re\n",
    "import string\n",
    "\n",
    "from collections import Counter\n",
    "from nltk.corpus import stopwords\n",
    "\n",
    "from keras_preprocessing import text\n",
    "\n",
    "from itertools import groupby\n",
    "\n",
    "from tqdm.autonotebook import tqdm\n",
    "\n",
    "pd.set_option('display.max_colwidth', -1)"
   ]
  },
  {
   "cell_type": "markdown",
   "metadata": {},
   "source": [
    "Load datasets"
   ]
  },
  {
   "cell_type": "code",
   "execution_count": 2,
   "metadata": {},
   "outputs": [],
   "source": [
    "pos_df = pd.read_csv(\"Datasets/twitter-datasets/train_pos.txt\", delimiter=\"\\\\n\", header=None, \n",
    "                     names = [\"tweets\"], engine='python')\n",
    "neg_df = pd.read_csv(\"Datasets/twitter-datasets/train_neg.txt\", delimiter=\"\\\\n\", header=None,\n",
    "                     names = [\"tweets\"], engine='python')"
   ]
  },
  {
   "cell_type": "code",
   "execution_count": 3,
   "metadata": {},
   "outputs": [],
   "source": [
    "test_df = pd.read_csv(\"Datasets/twitter-datasets/test_data.txt\", delimiter=\"\\\\n\", header=None,\n",
    "                     names = [\"tweets\"], engine='python')\n",
    "test_df = pd.DataFrame(test_df.tweets.str.split(',',1).tolist(), columns = ['id','tweets'])"
   ]
  },
  {
   "cell_type": "code",
   "execution_count": 4,
   "metadata": {},
   "outputs": [],
   "source": [
    "def count_null(tweets):\n",
    "    acc = 0\n",
    "    for index,tweet in enumerate(tweets):\n",
    "        if len(tweet) == 0:\n",
    "            #print(index)\n",
    "            acc+=1\n",
    "    return acc\n",
    "\n"
   ]
  },
  {
   "cell_type": "markdown",
   "metadata": {},
   "source": [
    "Add labels"
   ]
  },
  {
   "cell_type": "code",
   "execution_count": 5,
   "metadata": {},
   "outputs": [],
   "source": [
    "pos_df['label'] = 1\n",
    "neg_df['label'] = 0"
   ]
  },
  {
   "cell_type": "markdown",
   "metadata": {},
   "source": [
    "Remove numbers"
   ]
  },
  {
   "cell_type": "code",
   "execution_count": 6,
   "metadata": {},
   "outputs": [],
   "source": [
    "pos_df.tweets = pos_df.tweets.str.replace('\\d+', '')\n",
    "neg_df.tweets = neg_df.tweets.str.replace('\\d+', '')\n",
    "test_df.tweets = test_df.tweets.str.replace('\\d+', '')"
   ]
  },
  {
   "cell_type": "code",
   "execution_count": 7,
   "metadata": {},
   "outputs": [
    {
     "name": "stdout",
     "output_type": "stream",
     "text": [
      "0 0 0\n"
     ]
    }
   ],
   "source": [
    "print(count_null(pos_df.tweets),count_null(neg_df.tweets),count_null(test_df.tweets))"
   ]
  },
  {
   "cell_type": "markdown",
   "metadata": {},
   "source": [
    "Remove `<user>`"
   ]
  },
  {
   "cell_type": "code",
   "execution_count": 8,
   "metadata": {},
   "outputs": [],
   "source": [
    "pos_df.tweets = pos_df.tweets.str.replace(\"<user>\", \"\")\n",
    "neg_df.tweets = neg_df.tweets.str.replace(\"<user>\", \"\")\n",
    "test_df.tweets = test_df.tweets.str.replace(\"<user>\", \"\")"
   ]
  },
  {
   "cell_type": "code",
   "execution_count": 9,
   "metadata": {},
   "outputs": [
    {
     "name": "stdout",
     "output_type": "stream",
     "text": [
      "0 0 0\n"
     ]
    }
   ],
   "source": [
    "print(count_null(pos_df.tweets),count_null(neg_df.tweets),count_null(test_df.tweets))"
   ]
  },
  {
   "cell_type": "markdown",
   "metadata": {},
   "source": [
    "Remove `<url>`"
   ]
  },
  {
   "cell_type": "code",
   "execution_count": 10,
   "metadata": {},
   "outputs": [],
   "source": [
    "pos_df.tweets = pos_df.tweets.str.replace(\"<url>\", \"\")\n",
    "neg_df.tweets = neg_df.tweets.str.replace(\"<url>\", \"\")\n",
    "test_df.tweets = test_df.tweets.str.replace(\"<url>\", \"\")"
   ]
  },
  {
   "cell_type": "code",
   "execution_count": 11,
   "metadata": {},
   "outputs": [
    {
     "name": "stdout",
     "output_type": "stream",
     "text": [
      "0 0 0\n"
     ]
    }
   ],
   "source": [
    "print(count_null(pos_df.tweets),count_null(neg_df.tweets),count_null(test_df.tweets))"
   ]
  },
  {
   "cell_type": "code",
   "execution_count": 510,
   "metadata": {},
   "outputs": [],
   "source": [
    "tokenizer = text.Tokenizer(filters='!\"$%&()*+,-./:;<=>?@[\\\\]^_`{|}~\\t\\n')\n",
    "tokenizer.fit_on_texts(np.hstack((pos_df.tweets.values,neg_df.tweets.values,test_df.tweets)))"
   ]
  },
  {
   "cell_type": "code",
   "execution_count": 511,
   "metadata": {},
   "outputs": [],
   "source": [
    "def count_in_token(token,count):\n",
    "    for label, group in groupby(token):\n",
    "        if sum(1 for _ in group) > count:\n",
    "            return True\n",
    "    return False"
   ]
  },
  {
   "cell_type": "code",
   "execution_count": 512,
   "metadata": {},
   "outputs": [],
   "source": [
    "counts = {k: tokenizer.word_counts[k] for k in tokenizer.word_index.keys()}"
   ]
  },
  {
   "cell_type": "code",
   "execution_count": 49,
   "metadata": {},
   "outputs": [],
   "source": [
    "detailing = {\n",
    "            ('soo','so'),\n",
    "            ('sooo','so'),\n",
    "             ('aint','are not'),\n",
    "             ('mother','mom'),\n",
    "             ('fb','facebook'),\n",
    "             ('daddy', 'dad'),\n",
    "             ('gotta', 'have to'),\n",
    "             ('lil','little'),\n",
    "             ('btw','by the way'),\n",
    "             ('goodmorning', 'good morning'),\n",
    "             ('youu','you'),\n",
    "             ('alll','all'),\n",
    "             ('ohh','oh'),\n",
    "             ('ahh','ah'),\n",
    "             ('pls','please'),\n",
    "             ('ppl','people'),\n",
    "             ('yup','yes'),\n",
    "             ('af','much'),\n",
    "             ('dnt','dont'),\n",
    "             ('2nd','second'),\n",
    "             ('idk','i dont know'),\n",
    "             ('cuz','because'),             \n",
    "             ('yea','yes'),\n",
    "             ('dm','message'),\n",
    "             ('rt','retweet'),\n",
    "             ('ima','I am going to'),\n",
    "             ('till','until'),\n",
    "             ('cause','because'),\n",
    "            ('ahh','ah'),\n",
    "            ('meee','me'),\n",
    "            ('ohhh','oh'),\n",
    "            ('alll','all'),\n",
    "            ('youuu','you'),\n",
    "            ('pleaseee','please'),\n",
    "            ('yesss','yes'),\n",
    "            ('goood','good'),\n",
    "            ('oooh','oh'),\n",
    "             ('heyyy','hey'),\n",
    "             ('whyyy','why'),\n",
    "             ('knowww','know'),\n",
    "             ('misss','miss'),\n",
    "             ('thanksss','thanks'),\n",
    "             ('omg','oh my god'),\n",
    "             ('welll','well'),\n",
    "             ('reallly','really'),\n",
    "             ('mannn','man'),\n",
    "             ('sleeep','sleep'),\n",
    "             ('heeey','hey'),\n",
    "             ('sooon','soon'),\n",
    "             ('pleeease','please'),\n",
    "             ('nowww','now'),\n",
    "             ('ittt','it'),\n",
    "             ('looong','long'),\n",
    "             ('wayyy','way'),\n",
    "             ('babyyy','baby'),\n",
    "             ('owww','cute'),\n",
    "             ('neeed','need'),\n",
    "             ('whaaat','what'),\n",
    "             ('awwwh','cute'),\n",
    "             ('fuckkk','fuck'),\n",
    "             ('girlll','girl'),\n",
    "             ('cuteee','cute'),\n",
    "             ('everrr','ever'),\n",
    "             ('shittt','shit'),\n",
    "             ('happpy','happy'),\n",
    "             ('aww','cute'),\n",
    "             ('yall','you all'),\n",
    "             ('ahh','ah'),\n",
    "             ('ohh','oh'),\n",
    "             ('imma','i am going to'),\n",
    "             ('ppl','people'),\n",
    "             ('youu','you'),\n",
    "             ('ii','ok'),\n",
    "             ('mee','me'),\n",
    "             ('bb','baby'),\n",
    "             ('nooo','no'),\n",
    "             ('noo','no'),\n",
    "             ('yess','yes'),\n",
    "            ('dunno','dont know'),\n",
    "             ('yeahh','yeah'),\n",
    "             ('ooh','oh'),\n",
    "             ('wee','we'),\n",
    "             ('bbm','big black meat'),\n",
    "             ('theyll','they will'),\n",
    "             ('momma','mum'),\n",
    "             ('yummy','good'),\n",
    "             ('lemme','let me'),\n",
    "             ('heyy','hey'),\n",
    "             ('im','i am'),\n",
    "             ('lil','little'),\n",
    "             ('bae','baby'),\n",
    "             ('babe','baby'),\n",
    "             ('fml','fuck my life'),\n",
    "             ('asap', 'as soon as possible'),\n",
    "             ('smh','shake my head'),\n",
    "             ('cmon','come on'),\n",
    "            ('u','you'),\n",
    "            ('ur','your'),\n",
    "           ('ive','I have'),\n",
    "           ('ya','you'),\n",
    "            ('tho','though'),\n",
    "    \n",
    "    # fun set\n",
    "    ('funny','fun'),\n",
    "    ('laughing','fun'),\n",
    "    ('laugh','fun'),\n",
    "    ('hahahaha','fun'),\n",
    "    ('hahahah','fun'),\n",
    "    ('hahaha','fun'),\n",
    "    ('hahah','fun'),\n",
    "    ('hahaa','fun'),\n",
    "    ('ahahaha','fun'),\n",
    "    ('ahahah','fun'),\n",
    "    ('ahaha','fun'),\n",
    "    ('ahah', 'fun'),\n",
    "    ('haha','fun'),\n",
    "    ('aha','fun'),\n",
    "    ('yay','fun'),\n",
    "    ('xd','fun'),\n",
    "    ('lmao','fun'),\n",
    "    ('lmaoo','fun'),\n",
    "    ('lmaooo','fun'),\n",
    "    ('yeahhh','yeah'),\n",
    "    ('lmfaooo','fun'),\n",
    "    ('lmfaoo','fun'),\n",
    "    ('lmfao','fun'),\n",
    "    ('loool','fun'),\n",
    "    ('lol','fun'),\n",
    "    ('lool','fun'),\n",
    "    ('jk', 'fun'),\n",
    "    (':\\')', 'fun'),\n",
    "    (':p', 'fun'),\n",
    "    (';p', 'fun'),\n",
    "    ('hehe', 'fun'),\n",
    "    ('hehehe', 'fun'),\n",
    "\n",
    "    \n",
    "    \n",
    "    #good\n",
    "    ('follow', 'good'),\n",
    "    ('#teamfollowback','good'),\n",
    "    ('please','good'),\n",
    "    ('beautiful','good'),\n",
    "    ('great', 'good'),\n",
    "    ('glad', 'good'),\n",
    "    ('enjoyed', 'good'),\n",
    "    ('nice','good'),\n",
    "    ('better','good'),\n",
    "    ('sweet','good'),\n",
    "    ('amazing', 'good'),\n",
    "    ('cute','good'),\n",
    "    ('awesome','good'),\n",
    "    ('beautiful','good'),\n",
    "    ('friend', 'good'),\n",
    "    ('pretty','good'),\n",
    "    ('yes','good'),\n",
    "    \n",
    "    #happy\n",
    "    ('smile', 'happy'),\n",
    "    ('excited','happy'),\n",
    "    ('cool','happy'),\n",
    "    ('coool', 'happy'),\n",
    "    ('cooool', 'happy'),\n",
    "    (':)', 'happy'),\n",
    "    (':))', 'happy'),\n",
    "    ('(:','happy'),\n",
    "    (':d','happy'),\n",
    "    (';)','happy'),\n",
    "    (';d', 'happy'),\n",
    "    ('420','happy'),\n",
    "    ('4:20','happy'),\n",
    "    ('4h20','happy'),\n",
    "    ('thankyou', 'happy'),\n",
    "    ('thank', 'happy'),\n",
    "    ('thanks','happy'),\n",
    "    ('bday','happy'),\n",
    "    ('birthday','happy'),\n",
    "    ('thx','happy'),\n",
    "    ('thxs','happy'),\n",
    "    ('joy','happy'),\n",
    "    ('lit','happy'),\n",
    "    ('pleasure','happy'),\n",
    "    ('yolo','happy'),\n",
    "\n",
    "    #love\n",
    "    \n",
    "    ('loove', 'love'),\n",
    "    ('looove','love'),\n",
    "    ('lovee','love'),\n",
    "    ('loveee','love'),\n",
    "    ('luv','love'),\n",
    "    ('<3', 'love'),\n",
    "    ('xx', 'love'),\n",
    "    ('xxx', 'love'),\n",
    "    ('xo','love'),\n",
    "    ('xoxo','love'),\n",
    "    ('loving','love'),\n",
    "    ('aw', 'love'),\n",
    "    ('aww','love'),\n",
    "    ('awh','love'),\n",
    "    ('awww','love'),\n",
    "    (':*','love'),\n",
    "    ('loved', 'love'),\n",
    "    ('looved', 'love'),\n",
    "    ('friend','love'),\n",
    "    ('friendship','love'),\n",
    "    ('bf','love'),\n",
    "    ('bff','love'),\n",
    "    ('#love','love'),\n",
    "    ('bb','love'),\n",
    "    ('baby','love'),\n",
    "    ('bby','love'),\n",
    "    ('bae','love'),\n",
    "\n",
    "    \n",
    "    #sad\n",
    "    \n",
    "    ('noo', 'sad'),\n",
    "    ('nooo','sad'),\n",
    "    (':(','sad'),\n",
    "    (':\\'(', 'sad'),\n",
    "    (':((', 'sad'),\n",
    "    ('depressed', 'sad'),\n",
    "    ('depression','sad'),\n",
    "    ('cry','sad'),\n",
    "    ('crying','sad'),\n",
    "    ('sucks', 'sad'),\n",
    "    ('alone','sad'),\n",
    "    ('lonely','sad'),\n",
    "    ('broke','sad'),\n",
    "    ('death','sad'),\n",
    "    ('dead', 'sad'),\n",
    "    ('rip', 'sad'),\n",
    "    ('suicide', 'sad'),\n",
    "    ('suicidal', 'sad'),\n",
    "    ('#sad', 'sad'),\n",
    "    ('rip', 'sad'),\n",
    "    ('fml', 'sad'),\n",
    "    ('ugh', 'sad'),\n",
    "    ('ughh', 'sad'),\n",
    "    ('af', 'sad'),\n",
    "    ('miss', 'sad'),\n",
    "    ('missing', 'sad'),\n",
    "    ('terrible', 'sad'),\n",
    "    ('wish', 'sad'),\n",
    "    ('sorry', 'sad'),\n",
    "    ('fml', 'sad'),\n",
    "\n",
    "    \n",
    "   #angry\n",
    "    \n",
    "    ('angry', 'hate'),\n",
    "    ('anger','hate'),\n",
    "    ('fuck','hate'),\n",
    "    ('haters', 'hate'),\n",
    "    ('bitch', 'hate'),\n",
    "    ('biatch', 'hate'),\n",
    "    ('fck','hate'),\n",
    "    ('f***','hate'),\n",
    "    ('f**k','hate'),\n",
    "    ('fock', 'hate'),\n",
    "    ('mf','hate'),\n",
    "    ('motherfucker','hate'),\n",
    "    ('mofo','hate'),\n",
    "    ('pissed','hate'),\n",
    "    ('stupid', 'hate'),\n",
    "    ('kill', 'hate'),\n",
    "    ('killer', 'hate'),\n",
    "    ('ugly', 'hate'),\n",
    "    ('disgusting', 'hate'),\n",
    "    ('#hate', 'hate'),\n",
    "\n",
    "    \n",
    "    #bad\n",
    "    \n",
    "    ('study', 'bad'),\n",
    "    ('white','bad'),\n",
    "    ('black','bad'),\n",
    "    ('picture', 'bad'),\n",
    "    ('business', 'bad'),\n",
    "    ('dvd', 'bad'),\n",
    "    ('cd','bad'),\n",
    "    ('audio','bad'),\n",
    "    ('wrong','bad'),\n",
    "    ('book', 'bad')\n",
    "   \n",
    " \n",
    "   \n",
    "             \n",
    "             \n",
    "             \n",
    "             \n",
    "            }"
   ]
  },
  {
   "cell_type": "code",
   "execution_count": 50,
   "metadata": {},
   "outputs": [],
   "source": [
    "dic = dict(detailing)"
   ]
  },
  {
   "cell_type": "code",
   "execution_count": 51,
   "metadata": {},
   "outputs": [],
   "source": [
    "#pos_df.tweet_as_list = pos_df.tweet_as_list.apply(lambda tweet_list: [dic(word) if word in dic.keys else word for word i])\n",
    "\n",
    "pos_df.tweets = pos_df.tweets.apply(lambda tweet: \" \".join([dic[word] if word in dic.keys() else word for word in tweet.split(\" \")]))\n",
    "                                    \n",
    "neg_df.tweets = neg_df.tweets.apply(lambda tweet: \" \".join([dic[word] if word in dic.keys() else word for word in tweet.split(\" \")]))\n",
    "                                    \n",
    "test_df.tweets = test_df.tweets.apply(lambda tweet: \" \".join([dic[word] if word in dic.keys() else word for word in tweet.split(\" \")]))\n",
    "                                    \n",
    "                                    "
   ]
  },
  {
   "cell_type": "markdown",
   "metadata": {},
   "source": [
    "Remove stopwords"
   ]
  },
  {
   "cell_type": "code",
   "execution_count": 443,
   "metadata": {},
   "outputs": [],
   "source": [
    "#stopWords = stopwords.words('english')"
   ]
  },
  {
   "cell_type": "code",
   "execution_count": 444,
   "metadata": {},
   "outputs": [],
   "source": [
    "#pos_df.tweets = pos_df.tweets.apply(lambda t : \" \".join([word for word in t.split() if word not in stopWords]))\n",
    "#neg_df.tweets = neg_df.tweets.apply(lambda t : \" \".join([word for word in t.split() if word not in stopWords]))\n",
    "#test_df.tweets = test_df.tweets.apply(lambda t : \" \".join([word for word in t.split() if word not in stopWords]))"
   ]
  },
  {
   "cell_type": "code",
   "execution_count": 445,
   "metadata": {},
   "outputs": [],
   "source": [
    "#print(count_null(pos_df.tweets),count_null(neg_df.tweets),count_null(test_df.tweets))"
   ]
  },
  {
   "cell_type": "markdown",
   "metadata": {},
   "source": [
    "Remove punctuation"
   ]
  },
  {
   "cell_type": "code",
   "execution_count": 12,
   "metadata": {},
   "outputs": [
    {
     "data": {
      "text/plain": [
       "'!\"#$%&\\'()*+,-./:;<=>?@[\\\\]^_`{|}~'"
      ]
     },
     "execution_count": 12,
     "metadata": {},
     "output_type": "execute_result"
    }
   ],
   "source": [
    "string.punctuation"
   ]
  },
  {
   "cell_type": "code",
   "execution_count": 13,
   "metadata": {},
   "outputs": [],
   "source": [
    "pos_df.tweets = pos_df.tweets.str.translate(str.maketrans('', '', string.punctuation.replace('#','')))\n",
    "neg_df.tweets = neg_df.tweets.str.translate(str.maketrans('', '', string.punctuation.replace('#','')))\n",
    "test_df.tweets = test_df.tweets.str.translate(str.maketrans('', '', string.punctuation.replace('#','')))"
   ]
  },
  {
   "cell_type": "code",
   "execution_count": 14,
   "metadata": {},
   "outputs": [
    {
     "name": "stdout",
     "output_type": "stream",
     "text": [
      "0 0 0\n"
     ]
    }
   ],
   "source": [
    "print(count_null(pos_df.tweets),count_null(neg_df.tweets),count_null(test_df.tweets))"
   ]
  },
  {
   "cell_type": "markdown",
   "metadata": {},
   "source": [
    "Remove consecutive white spaces"
   ]
  },
  {
   "cell_type": "code",
   "execution_count": 15,
   "metadata": {},
   "outputs": [],
   "source": [
    "pos_df.tweets = pos_df.tweets.apply(lambda t : \" \".join(t.split()))\n",
    "neg_df.tweets = neg_df.tweets.apply(lambda t : \" \".join(t.split()))\n",
    "test_df.tweets = test_df.tweets.apply(lambda t : \" \".join(t.split()))"
   ]
  },
  {
   "cell_type": "code",
   "execution_count": 16,
   "metadata": {},
   "outputs": [
    {
     "name": "stdout",
     "output_type": "stream",
     "text": [
      "21 3 0\n"
     ]
    }
   ],
   "source": [
    "print(count_null(pos_df.tweets),count_null(neg_df.tweets),count_null(test_df.tweets))"
   ]
  },
  {
   "cell_type": "markdown",
   "metadata": {},
   "source": [
    "Remove stop words from our detailing "
   ]
  },
  {
   "cell_type": "code",
   "execution_count": 456,
   "metadata": {
    "scrolled": true
   },
   "outputs": [
    {
     "data": {
      "text/plain": [
       "\"for k, v in detailing:\\n    if v in stopWords:\\n        detailing.remove((k,v))\\n        detailing.add((k,''))\""
      ]
     },
     "execution_count": 456,
     "metadata": {},
     "output_type": "execute_result"
    }
   ],
   "source": [
    "\"\"\"for k, v in detailing:\n",
    "    if v in stopWords:\n",
    "        detailing.remove((k,v))\n",
    "        detailing.add((k,''))\"\"\""
   ]
  },
  {
   "cell_type": "markdown",
   "metadata": {},
   "source": [
    "Replace our detailing in tweets"
   ]
  },
  {
   "cell_type": "code",
   "execution_count": 297,
   "metadata": {},
   "outputs": [
    {
     "data": {
      "application/vnd.jupyter.widget-view+json": {
       "model_id": "38c912d9b7324a0fb685171190d93152",
       "version_major": 2,
       "version_minor": 0
      },
      "text/plain": [
       "HBox(children=(IntProgress(value=0, max=127), HTML(value='')))"
      ]
     },
     "metadata": {},
     "output_type": "display_data"
    }
   ],
   "source": [
    "\"\"\"for k, v in tqdm(detailing):\n",
    "    pos_df.tweets = pos_df.tweets.str.replace(k, v)\n",
    "    neg_df.tweets = neg_df.tweets.str.replace(k, v)\n",
    "    test_df.tweets = test_df.tweets.str.replace(k, v)\"\"\""
   ]
  },
  {
   "cell_type": "markdown",
   "metadata": {},
   "source": [
    "Remove consecutive white spaces again"
   ]
  },
  {
   "cell_type": "code",
   "execution_count": 522,
   "metadata": {},
   "outputs": [],
   "source": [
    "pos_df.tweets = pos_df.tweets.apply(lambda t : \" \".join(t.split()))\n",
    "neg_df.tweets = neg_df.tweets.apply(lambda t : \" \".join(t.split()))\n",
    "test_df.tweets = test_df.tweets.apply(lambda t : \" \".join(t.split()))"
   ]
  },
  {
   "cell_type": "markdown",
   "metadata": {},
   "source": [
    "Counts"
   ]
  },
  {
   "cell_type": "code",
   "execution_count": 550,
   "metadata": {},
   "outputs": [],
   "source": [
    "pos_df.tweets = pos_df.tweets.str.translate(str.maketrans('', '', string.punctuation.replace('#','')))\n",
    "neg_df.tweets = neg_df.tweets.str.translate(str.maketrans('', '', string.punctuation.replace('#','')))\n",
    "test_df.tweets = test_df.tweets.str.translate(str.maketrans('', '', string.punctuation.replace('#','')))"
   ]
  },
  {
   "cell_type": "code",
   "execution_count": 557,
   "metadata": {},
   "outputs": [
    {
     "data": {
      "text/plain": [
       "0          None\n",
       "1          None\n",
       "2          None\n",
       "3          None\n",
       "4          None\n",
       "5          None\n",
       "6          None\n",
       "7          None\n",
       "8          None\n",
       "9          None\n",
       "10         None\n",
       "11         None\n",
       "12         None\n",
       "13         None\n",
       "14         None\n",
       "15         None\n",
       "16         None\n",
       "17         None\n",
       "18         None\n",
       "19         None\n",
       "20         None\n",
       "21         None\n",
       "22         None\n",
       "23         None\n",
       "24         None\n",
       "25         None\n",
       "26         None\n",
       "27         None\n",
       "28         None\n",
       "29         None\n",
       "           ... \n",
       "1249970    None\n",
       "1249971    None\n",
       "1249972    None\n",
       "1249973    None\n",
       "1249974    None\n",
       "1249975    None\n",
       "1249976    None\n",
       "1249977    None\n",
       "1249978    None\n",
       "1249979    None\n",
       "1249980    None\n",
       "1249981    None\n",
       "1249982    None\n",
       "1249983    None\n",
       "1249984    None\n",
       "1249985    None\n",
       "1249986    None\n",
       "1249987    None\n",
       "1249988    None\n",
       "1249989    None\n",
       "1249990    None\n",
       "1249991    None\n",
       "1249992    None\n",
       "1249993    None\n",
       "1249994    None\n",
       "1249995    None\n",
       "1249996    None\n",
       "1249997    None\n",
       "1249998    None\n",
       "1249999    None\n",
       "Name: tweets, Length: 1250000, dtype: object"
      ]
     },
     "execution_count": 557,
     "metadata": {},
     "output_type": "execute_result"
    }
   ],
   "source": [
    "results_pos = Counter()\n",
    "pos_df.tweets.str.lower().str.split().apply(results_pos.update)\n",
    "results_neg = Counter()\n",
    "neg_df.tweets.str.lower().str.split().apply(results_neg.update)"
   ]
  },
  {
   "cell_type": "code",
   "execution_count": 558,
   "metadata": {},
   "outputs": [],
   "source": [
    "count_pos = results_pos.most_common(1000)\n",
    "count_neg = results_neg.most_common(1000)\n",
    "\n",
    "dict_count_pos = dict(count_pos)\n",
    "dict_count_neg = dict(count_neg)\n",
    "\n",
    "both = dict_count_pos.keys() & (dict_count_neg.keys())\n",
    "\n",
    "count_total = [(word, dict_count_pos[word]+dict_count_neg[word]) for word in both]\n",
    "dict_both = dict(count_total)"
   ]
  },
  {
   "cell_type": "code",
   "execution_count": 559,
   "metadata": {},
   "outputs": [],
   "source": [
    "bar_pos = [(word, dict_count_pos[word]) for word in both if 100*dict_count_pos[word]/dict_both[word]>75]\n",
    "bar_neg = [(word, dict_count_neg[word]) for word in both if 100*dict_count_neg[word]/dict_both[word]>75]"
   ]
  },
  {
   "cell_type": "code",
   "execution_count": 561,
   "metadata": {
    "scrolled": false
   },
   "outputs": [
    {
     "data": {
      "text/plain": [
       "[('t', 12172),\n",
       " ('cold', 6532),\n",
       " ('blue', 8115),\n",
       " ('hurt', 5414),\n",
       " ('g', 8864),\n",
       " ('sad', 24209),\n",
       " ('red', 8472),\n",
       " ('book', 14952),\n",
       " ('cry', 9763),\n",
       " ('miss', 41159),\n",
       " ('via', 11132),\n",
       " ('picture', 28901),\n",
       " ('black', 32352),\n",
       " ('case', 12919),\n",
       " ('sick', 8854),\n",
       " ('f', 6208),\n",
       " ('white', 14243),\n",
       " ('hate', 21812),\n",
       " ('set', 15780),\n",
       " ('m', 14961),\n",
       " ('small', 4817),\n",
       " ('anymore', 8304),\n",
       " ('news', 7208),\n",
       " ('wish', 29534),\n",
       " ('light', 4897),\n",
       " ('lost', 7280),\n",
       " ('c', 10563)]"
      ]
     },
     "execution_count": 561,
     "metadata": {},
     "output_type": "execute_result"
    }
   ],
   "source": [
    "bar_neg"
   ]
  },
  {
   "cell_type": "code",
   "execution_count": 529,
   "metadata": {},
   "outputs": [],
   "source": [
    "sorted_pos_70 = sorted(bar_pos, key=lambda tup: -tup[1])\n",
    "sorted_neg_70 = sorted(bar_neg, key=lambda tup: -tup[1])"
   ]
  },
  {
   "cell_type": "code",
   "execution_count": 530,
   "metadata": {},
   "outputs": [
    {
     "ename": "KeyError",
     "evalue": "'excited'",
     "output_type": "error",
     "traceback": [
      "\u001b[0;31m---------------------------------------------------------------------------\u001b[0m",
      "\u001b[0;31mKeyError\u001b[0m                                  Traceback (most recent call last)",
      "\u001b[0;32m<ipython-input-530-04b462b61198>\u001b[0m in \u001b[0;36m<module>\u001b[0;34m\u001b[0m\n\u001b[1;32m      1\u001b[0m \u001b[0mword\u001b[0m \u001b[0;34m=\u001b[0m \u001b[0;34m[\u001b[0m\u001b[0;34m'love'\u001b[0m\u001b[0;34m,\u001b[0m\u001b[0;34m'excited'\u001b[0m\u001b[0;34m,\u001b[0m \u001b[0;34m'black'\u001b[0m\u001b[0;34m,\u001b[0m\u001b[0;34m'sorry'\u001b[0m\u001b[0;34m,\u001b[0m\u001b[0;34m'hate'\u001b[0m\u001b[0;34m,\u001b[0m\u001b[0;34m'amazing'\u001b[0m\u001b[0;34m,\u001b[0m\u001b[0;34m'following'\u001b[0m\u001b[0;34m,\u001b[0m\u001b[0;34m'white'\u001b[0m\u001b[0;34m]\u001b[0m\u001b[0;34m\u001b[0m\u001b[0;34m\u001b[0m\u001b[0m\n\u001b[0;32m----> 2\u001b[0;31m \u001b[0mpos\u001b[0m \u001b[0;34m=\u001b[0m \u001b[0;34m[\u001b[0m\u001b[0mdict_count_pos\u001b[0m\u001b[0;34m[\u001b[0m\u001b[0mw\u001b[0m\u001b[0;34m]\u001b[0m \u001b[0;32mfor\u001b[0m \u001b[0mw\u001b[0m \u001b[0;32min\u001b[0m \u001b[0mword\u001b[0m\u001b[0;34m]\u001b[0m\u001b[0;34m\u001b[0m\u001b[0;34m\u001b[0m\u001b[0m\n\u001b[0m\u001b[1;32m      3\u001b[0m \u001b[0mneg\u001b[0m \u001b[0;34m=\u001b[0m \u001b[0;34m[\u001b[0m\u001b[0mdict_count_neg\u001b[0m\u001b[0;34m[\u001b[0m\u001b[0mw\u001b[0m\u001b[0;34m]\u001b[0m \u001b[0;32mfor\u001b[0m \u001b[0mw\u001b[0m \u001b[0;32min\u001b[0m \u001b[0mword\u001b[0m\u001b[0;34m]\u001b[0m\u001b[0;34m\u001b[0m\u001b[0;34m\u001b[0m\u001b[0m\n",
      "\u001b[0;32m<ipython-input-530-04b462b61198>\u001b[0m in \u001b[0;36m<listcomp>\u001b[0;34m(.0)\u001b[0m\n\u001b[1;32m      1\u001b[0m \u001b[0mword\u001b[0m \u001b[0;34m=\u001b[0m \u001b[0;34m[\u001b[0m\u001b[0;34m'love'\u001b[0m\u001b[0;34m,\u001b[0m\u001b[0;34m'excited'\u001b[0m\u001b[0;34m,\u001b[0m \u001b[0;34m'black'\u001b[0m\u001b[0;34m,\u001b[0m\u001b[0;34m'sorry'\u001b[0m\u001b[0;34m,\u001b[0m\u001b[0;34m'hate'\u001b[0m\u001b[0;34m,\u001b[0m\u001b[0;34m'amazing'\u001b[0m\u001b[0;34m,\u001b[0m\u001b[0;34m'following'\u001b[0m\u001b[0;34m,\u001b[0m\u001b[0;34m'white'\u001b[0m\u001b[0;34m]\u001b[0m\u001b[0;34m\u001b[0m\u001b[0;34m\u001b[0m\u001b[0m\n\u001b[0;32m----> 2\u001b[0;31m \u001b[0mpos\u001b[0m \u001b[0;34m=\u001b[0m \u001b[0;34m[\u001b[0m\u001b[0mdict_count_pos\u001b[0m\u001b[0;34m[\u001b[0m\u001b[0mw\u001b[0m\u001b[0;34m]\u001b[0m \u001b[0;32mfor\u001b[0m \u001b[0mw\u001b[0m \u001b[0;32min\u001b[0m \u001b[0mword\u001b[0m\u001b[0;34m]\u001b[0m\u001b[0;34m\u001b[0m\u001b[0;34m\u001b[0m\u001b[0m\n\u001b[0m\u001b[1;32m      3\u001b[0m \u001b[0mneg\u001b[0m \u001b[0;34m=\u001b[0m \u001b[0;34m[\u001b[0m\u001b[0mdict_count_neg\u001b[0m\u001b[0;34m[\u001b[0m\u001b[0mw\u001b[0m\u001b[0;34m]\u001b[0m \u001b[0;32mfor\u001b[0m \u001b[0mw\u001b[0m \u001b[0;32min\u001b[0m \u001b[0mword\u001b[0m\u001b[0;34m]\u001b[0m\u001b[0;34m\u001b[0m\u001b[0;34m\u001b[0m\u001b[0m\n",
      "\u001b[0;31mKeyError\u001b[0m: 'excited'"
     ]
    }
   ],
   "source": [
    "word = ['love','excited', 'black','sorry','hate','amazing','following','white']\n",
    "pos = [dict_count_pos[w] for w in word]\n",
    "neg = [dict_count_neg[w] for w in word]"
   ]
  },
  {
   "cell_type": "code",
   "execution_count": 470,
   "metadata": {},
   "outputs": [
    {
     "data": {
      "text/plain": [
       "78211"
      ]
     },
     "execution_count": 470,
     "metadata": {},
     "output_type": "execute_result"
    }
   ],
   "source": [
    "dict_count_neg['fun']"
   ]
  },
  {
   "cell_type": "code",
   "execution_count": 535,
   "metadata": {},
   "outputs": [
    {
     "data": {
      "text/plain": [
       "<matplotlib.legend.Legend at 0x1b616ca940>"
      ]
     },
     "execution_count": 535,
     "metadata": {},
     "output_type": "execute_result"
    },
    {
     "data": {
      "image/png": "[encoded data removed]",
      "text/plain": [
       "<Figure size 432x288 with 1 Axes>"
      ]
     },
     "metadata": {
      "needs_background": "light"
     },
     "output_type": "display_data"
    }
   ],
   "source": [
    "import numpy as np\n",
    "import matplotlib.pyplot as plt\n",
    "\n",
    "\n",
    "N = len(word)\n",
    "ind = np.arange(N)    # the x locations for the groups\n",
    "width = 0.35       # the width of the bars: can also be len(x) sequence\n",
    "\n",
    "p1 = plt.bar(ind, pos, width)\n",
    "p2 = plt.bar(ind, neg, width,\n",
    "             bottom=pos)\n",
    "\n",
    "plt.ylabel('Occurences per word')\n",
    "plt.title('Word occurences > 70%')\n",
    "plt.xticks(ind, word, rotation=45)\n",
    "#plt.yticks(np.arange(0, 81, 10))\n",
    "plt.legend((p1[0], p2[0]), ('Pos', 'Neg'))\n"
   ]
  },
  {
   "cell_type": "markdown",
   "metadata": {},
   "source": [
    "Remove duplicate tweets"
   ]
  },
  {
   "cell_type": "code",
   "execution_count": 531,
   "metadata": {},
   "outputs": [],
   "source": [
    "pos_df = pos_df.drop_duplicates(subset=[\"tweets\"])\n",
    "neg_df = neg_df.drop_duplicates(subset=[\"tweets\"])\n",
    "\n",
    "pos_df = pos_df.dropna()\n",
    "neg_df = neg_df.dropna()\n",
    "\n",
    "train = pd.concat([pos_df,neg_df])"
   ]
  },
  {
   "cell_type": "code",
   "execution_count": 532,
   "metadata": {},
   "outputs": [
    {
     "name": "stdout",
     "output_type": "stream",
     "text": [
      "0\n"
     ]
    }
   ],
   "source": [
    "acc = 0\n",
    "for tweet in train.tweets:\n",
    "    if type(tweet) == float:\n",
    "        acc += 1\n",
    "        print(tweet)\n",
    "print(acc)"
   ]
  },
  {
   "cell_type": "markdown",
   "metadata": {},
   "source": [
    "Write back to disk"
   ]
  },
  {
   "cell_type": "code",
   "execution_count": 533,
   "metadata": {},
   "outputs": [],
   "source": [
    "np.savetxt(\"Datasets/twitter-datasets/train_pos_full_cleaned.txt\", pos_df.values, fmt='%s')\n",
    "np.savetxt(\"Datasets/twitter-datasets/train_neg_full_cleaned.txt\", neg_df.values, fmt='%s')"
   ]
  },
  {
   "cell_type": "code",
   "execution_count": 19,
   "metadata": {},
   "outputs": [],
   "source": [
    "pos_df.to_csv(\"Datasets/twitter-datasets/train_pos_cleaned.csv\")\n",
    "neg_df.to_csv(\"Datasets/twitter-datasets/train_neg_cleaned.csv\")\n",
    "test_df.to_csv(\"Datasets/twitter-datasets/test_data_cleaned.csv\")"
   ]
  },
  {
   "cell_type": "code",
   "execution_count": null,
   "metadata": {},
   "outputs": [],
   "source": []
  }
 ],
 "metadata": {
  "kernelspec": {
   "display_name": "Python 3",
   "language": "python",
   "name": "python3"
  },
  "language_info": {
   "codemirror_mode": {
    "name": "ipython",
    "version": 3
   },
   "file_extension": ".py",
   "mimetype": "text/x-python",
   "name": "python",
   "nbconvert_exporter": "python",
   "pygments_lexer": "ipython3",
   "version": "3.7.4"
  }
 },
 "nbformat": 4,
 "nbformat_minor": 2
}
