{
 "cells": [
  {
   "cell_type": "code",
   "execution_count": 1,
   "metadata": {},
   "outputs": [],
   "source": [
    "import pandas as pd\n",
    "import numpy as np\n",
    "import re\n",
    "import string\n",
    "\n",
    "from collections import Counter\n",
    "from nltk.corpus import stopwords"
   ]
  },
  {
   "cell_type": "code",
   "execution_count": 2,
   "metadata": {},
   "outputs": [],
   "source": [
    "pd.set_option('display.max_columns', 1000)  # or 1000\n",
    "pd.set_option('display.max_rows', 1000)  # or 1000\n",
    "pd.set_option('display.max_colwidth', 199)  # or 199"
   ]
  },
  {
   "cell_type": "markdown",
   "metadata": {},
   "source": [
    "Load datasets"
   ]
  },
  {
   "cell_type": "code",
   "execution_count": 3,
   "metadata": {},
   "outputs": [],
   "source": [
    "pos_df = pd.read_csv(\"Datasets/twitter-datasets/train_pos_full.txt\", delimiter=\"\\\\n\", header=None, \n",
    "                     names = [\"tweets\"], engine='python')\n",
    "neg_df = pd.read_csv(\"Datasets/twitter-datasets/train_neg_full.txt\", delimiter=\"\\\\n\", header=None,\n",
    "                     names = [\"tweets\"], engine='python')"
   ]
  },
  {
   "cell_type": "code",
   "execution_count": 4,
   "metadata": {},
   "outputs": [
    {
     "data": {
      "text/html": [
       "<div>\n",
       "<style scoped>\n",
       "    .dataframe tbody tr th:only-of-type {\n",
       "        vertical-align: middle;\n",
       "    }\n",
       "\n",
       "    .dataframe tbody tr th {\n",
       "        vertical-align: top;\n",
       "    }\n",
       "\n",
       "    .dataframe thead th {\n",
       "        text-align: right;\n",
       "    }\n",
       "</style>\n",
       "<table border=\"1\" class=\"dataframe\">\n",
       "  <thead>\n",
       "    <tr style=\"text-align: right;\">\n",
       "      <th></th>\n",
       "      <th>tweets</th>\n",
       "    </tr>\n",
       "  </thead>\n",
       "  <tbody>\n",
       "    <tr>\n",
       "      <th>0</th>\n",
       "      <td>&lt;user&gt; i dunno justin read my mention or not . only justin and god knows about that , but i hope you will follow me #believe 15</td>\n",
       "    </tr>\n",
       "    <tr>\n",
       "      <th>1</th>\n",
       "      <td>because your logic is so dumb , i won't even crop out your name or your photo . tsk . &lt;url&gt;</td>\n",
       "    </tr>\n",
       "    <tr>\n",
       "      <th>2</th>\n",
       "      <td>\" &lt;user&gt; just put casper in a box ! \" looved the battle ! #crakkbitch</td>\n",
       "    </tr>\n",
       "    <tr>\n",
       "      <th>3</th>\n",
       "      <td>&lt;user&gt; &lt;user&gt; thanks sir &gt; &gt; don't trip lil mama ... just keep doin ya thang !</td>\n",
       "    </tr>\n",
       "    <tr>\n",
       "      <th>4</th>\n",
       "      <td>visiting my brother tmr is the bestest birthday gift eveerrr ! ! !</td>\n",
       "    </tr>\n",
       "    <tr>\n",
       "      <th>...</th>\n",
       "      <td>...</td>\n",
       "    </tr>\n",
       "    <tr>\n",
       "      <th>1249995</th>\n",
       "      <td>a warning sign ? (; rt &lt;user&gt; the negativity you bleed out toward others will gradually cripple your own happiness .</td>\n",
       "    </tr>\n",
       "    <tr>\n",
       "      <th>1249996</th>\n",
       "      <td>&lt;user&gt; ff too thank youuu ) )</td>\n",
       "    </tr>\n",
       "    <tr>\n",
       "      <th>1249997</th>\n",
       "      <td>i just love shumpa ! that's my girl</td>\n",
       "    </tr>\n",
       "    <tr>\n",
       "      <th>1249998</th>\n",
       "      <td>the best way to start a day ! no matter what happens , he makes my heart smile &lt;url&gt;</td>\n",
       "    </tr>\n",
       "    <tr>\n",
       "      <th>1249999</th>\n",
       "      <td>#frenchieswant1dtou i'm not from french but &lt;user&gt; don't you know ? all directioners wants you</td>\n",
       "    </tr>\n",
       "  </tbody>\n",
       "</table>\n",
       "<p>1250000 rows × 1 columns</p>\n",
       "</div>"
      ],
      "text/plain": [
       "                                                                                                                                  tweets\n",
       "0        <user> i dunno justin read my mention or not . only justin and god knows about that , but i hope you will follow me #believe 15\n",
       "1                                            because your logic is so dumb , i won't even crop out your name or your photo . tsk . <url>\n",
       "2                                                                  \" <user> just put casper in a box ! \" looved the battle ! #crakkbitch\n",
       "3                                                         <user> <user> thanks sir > > don't trip lil mama ... just keep doin ya thang !\n",
       "4                                                                     visiting my brother tmr is the bestest birthday gift eveerrr ! ! !\n",
       "...                                                                                                                                  ...\n",
       "1249995             a warning sign ? (; rt <user> the negativity you bleed out toward others will gradually cripple your own happiness .\n",
       "1249996                                                                                                    <user> ff too thank youuu ) )\n",
       "1249997                                                                                              i just love shumpa ! that's my girl\n",
       "1249998                                             the best way to start a day ! no matter what happens , he makes my heart smile <url>\n",
       "1249999                                   #frenchieswant1dtou i'm not from french but <user> don't you know ? all directioners wants you\n",
       "\n",
       "[1250000 rows x 1 columns]"
      ]
     },
     "execution_count": 4,
     "metadata": {},
     "output_type": "execute_result"
    }
   ],
   "source": [
    "pos_df"
   ]
  },
  {
   "cell_type": "markdown",
   "metadata": {},
   "source": [
    "Remove numbers"
   ]
  },
  {
   "cell_type": "code",
   "execution_count": 5,
   "metadata": {},
   "outputs": [],
   "source": [
    "pos_df.tweets = pos_df.tweets.str.replace('\\d+', '')\n",
    "neg_df.tweets = neg_df.tweets.str.replace('\\d+', '')"
   ]
  },
  {
   "cell_type": "markdown",
   "metadata": {},
   "source": [
    "Remove `<user>`"
   ]
  },
  {
   "cell_type": "code",
   "execution_count": 6,
   "metadata": {},
   "outputs": [],
   "source": [
    "pos_df[\"tweets\"] = pos_df[\"tweets\"].str.replace(\"<user>\", \"\")\n",
    "neg_df[\"tweets\"] = neg_df[\"tweets\"].str.replace(\"<user>\", \"\")"
   ]
  },
  {
   "cell_type": "markdown",
   "metadata": {},
   "source": [
    "Remove `<url>`"
   ]
  },
  {
   "cell_type": "code",
   "execution_count": 7,
   "metadata": {},
   "outputs": [],
   "source": [
    "pos_df[\"tweets\"] = pos_df[\"tweets\"].str.replace(\"<url>\", \"\")\n",
    "neg_df[\"tweets\"] = neg_df[\"tweets\"].str.replace(\"<url>\", \"\")"
   ]
  },
  {
   "cell_type": "markdown",
   "metadata": {},
   "source": [
    "Remove stopwords"
   ]
  },
  {
   "cell_type": "code",
   "execution_count": 9,
   "metadata": {},
   "outputs": [],
   "source": [
    "stopWords = stopwords.words('english')"
   ]
  },
  {
   "cell_type": "code",
   "execution_count": 10,
   "metadata": {},
   "outputs": [],
   "source": [
    "stopWords.append('im')"
   ]
  },
  {
   "cell_type": "code",
   "execution_count": 11,
   "metadata": {},
   "outputs": [],
   "source": [
    "pos_df.tweets = pos_df.tweets.apply(lambda t : \" \".join([word for word in t.split() if word not in stopWords]))\n",
    "neg_df.tweets = neg_df.tweets.apply(lambda t : \" \".join([word for word in t.split() if word not in stopWords]))"
   ]
  },
  {
   "cell_type": "markdown",
   "metadata": {},
   "source": [
    "Remove punctuation"
   ]
  },
  {
   "cell_type": "code",
   "execution_count": 12,
   "metadata": {},
   "outputs": [],
   "source": [
    "pos_df.tweets = pos_df.tweets.str.translate(str.maketrans('', '', string.punctuation.replace('#','')))\n",
    "neg_df.tweets = neg_df.tweets.str.translate(str.maketrans('', '', string.punctuation.replace('#','')))"
   ]
  },
  {
   "cell_type": "markdown",
   "metadata": {},
   "source": [
    "Counts"
   ]
  },
  {
   "cell_type": "code",
   "execution_count": 13,
   "metadata": {},
   "outputs": [
    {
     "data": {
      "text/plain": [
       "0          None\n",
       "1          None\n",
       "2          None\n",
       "3          None\n",
       "4          None\n",
       "           ... \n",
       "1249995    None\n",
       "1249996    None\n",
       "1249997    None\n",
       "1249998    None\n",
       "1249999    None\n",
       "Name: tweets, Length: 1250000, dtype: object"
      ]
     },
     "execution_count": 13,
     "metadata": {},
     "output_type": "execute_result"
    }
   ],
   "source": [
    "results_pos = Counter()\n",
    "pos_df.tweets.str.lower().str.split().apply(results_pos.update)\n",
    "results_neg = Counter()\n",
    "neg_df.tweets.str.lower().str.split().apply(results_neg.update)"
   ]
  },
  {
   "cell_type": "code",
   "execution_count": 122,
   "metadata": {},
   "outputs": [],
   "source": [
    "count_pos = results_pos.most_common(1000)\n",
    "count_neg = results_neg.most_common(1000)\n",
    "\n",
    "dict_count_pos = dict(count_pos)\n",
    "dict_count_neg = dict(count_neg)\n",
    "\n",
    "both = dict_count_pos.keys() & (dict_count_neg.keys())\n",
    "\n",
    "count_total = [(word, dict_count_pos[word]+dict_count_neg[word]) for word in both]\n",
    "dict_both = dict(count_total)"
   ]
  },
  {
   "cell_type": "code",
   "execution_count": 123,
   "metadata": {},
   "outputs": [],
   "source": [
    "bar_pos = [(word, dict_count_pos[word]) for word in both if 100*dict_count_pos[word]/dict_both[word]>75]\n",
    "bar_neg = [(word, dict_count_neg[word]) for word in both if 100*dict_count_neg[word]/dict_both[word]>75]"
   ]
  },
  {
   "cell_type": "code",
   "execution_count": 124,
   "metadata": {
    "scrolled": true
   },
   "outputs": [
    {
     "data": {
      "text/plain": [
       "[('g', 8864),\n",
       " ('happened', 3762),\n",
       " ('black', 32352),\n",
       " ('leaving', 3734),\n",
       " ('lost', 7280),\n",
       " ('bag', 4114),\n",
       " ('small', 4817),\n",
       " ('missing', 5410),\n",
       " ('set', 15780),\n",
       " ('case', 12919),\n",
       " ('hate', 21812),\n",
       " ('wish', 29534),\n",
       " ('red', 8472),\n",
       " ('sad', 24209),\n",
       " ('light', 4897),\n",
       " ('business', 3875),\n",
       " ('news', 7208),\n",
       " ('cold', 6532),\n",
       " ('sick', 8854),\n",
       " ('cry', 9763),\n",
       " ('f', 6208),\n",
       " ('picture', 28901),\n",
       " ('miss', 41159),\n",
       " ('ipod', 5810),\n",
       " ('blue', 8115),\n",
       " ('hurt', 5414),\n",
       " ('anymore', 8304),\n",
       " ('book', 14952),\n",
       " ('white', 14243),\n",
       " ('c', 10563),\n",
       " ('via', 11132),\n",
       " ('nooo', 5025),\n",
       " ('green', 5481)]"
      ]
     },
     "execution_count": 124,
     "metadata": {},
     "output_type": "execute_result"
    }
   ],
   "source": [
    "bar_neg"
   ]
  },
  {
   "cell_type": "code",
   "execution_count": 125,
   "metadata": {},
   "outputs": [],
   "source": [
    "sorted_pos_70 = sorted(bar_pos, key=lambda tup: -tup[1])\n",
    "sorted_neg_70 = sorted(bar_neg, key=lambda tup: -tup[1])\n",
    "\n"
   ]
  },
  {
   "cell_type": "code",
   "execution_count": 133,
   "metadata": {},
   "outputs": [],
   "source": [
    "word = ['love','haha','black', 'sorry','hate','amazing','following','white']\n",
    "pos = [dict_count_pos[w] for w in word]\n",
    "neg = [dict_count_neg[w] for w in word]"
   ]
  },
  {
   "cell_type": "code",
   "execution_count": 135,
   "metadata": {},
   "outputs": [
    {
     "data": {
      "text/plain": [
       "<matplotlib.legend.Legend at 0x1a6d723ad0>"
      ]
     },
     "execution_count": 135,
     "metadata": {},
     "output_type": "execute_result"
    },
    {
     "data": {
      "image/png": "[encoded data removed]",
      "text/plain": [
       "<Figure size 432x288 with 1 Axes>"
      ]
     },
     "metadata": {
      "needs_background": "light"
     },
     "output_type": "display_data"
    }
   ],
   "source": [
    "import numpy as np\n",
    "import matplotlib.pyplot as plt\n",
    "\n",
    "\n",
    "N = len(word)\n",
    "ind = np.arange(N)    # the x locations for the groups\n",
    "width = 0.35       # the width of the bars: can also be len(x) sequence\n",
    "\n",
    "p1 = plt.bar(ind, pos, width)\n",
    "p2 = plt.bar(ind, neg, width,\n",
    "             bottom=pos)\n",
    "\n",
    "plt.ylabel('Occurences per word')\n",
    "plt.title('Word occurences > 70%')\n",
    "plt.xticks(ind, word, rotation=45)\n",
    "#plt.yticks(np.arange(0, 81, 10))\n",
    "plt.legend((p1[0], p2[0]), ('Pos', 'Neg'))\n"
   ]
  },
  {
   "cell_type": "markdown",
   "metadata": {},
   "source": [
    "Remove duplicate tweets"
   ]
  },
  {
   "cell_type": "code",
   "execution_count": null,
   "metadata": {},
   "outputs": [],
   "source": [
    "pos_df = pos_df.drop_duplicates(subset=[\"tweets\"])\n",
    "neg_df = neg_df.drop_duplicates(subset=[\"tweets\"])"
   ]
  },
  {
   "cell_type": "markdown",
   "metadata": {},
   "source": [
    "Write back to disk"
   ]
  },
  {
   "cell_type": "code",
   "execution_count": null,
   "metadata": {},
   "outputs": [],
   "source": [
    "np.savetxt(\"Datasets/twitter-datasets/train_pos_full_cleaned.txt\", pos_df.values, fmt='%s')\n",
    "np.savetxt(\"Datasets/twitter-datasets/train_neg_full_cleaned.txt\", neg_df.values, fmt='%s')"
   ]
  },
  {
   "cell_type": "code",
   "execution_count": null,
   "metadata": {},
   "outputs": [],
   "source": []
  }
 ],
 "metadata": {
  "kernelspec": {
   "display_name": "Python 3",
   "language": "python",
   "name": "python3"
  },
  "language_info": {
   "codemirror_mode": {
    "name": "ipython",
    "version": 3
   },
   "file_extension": ".py",
   "mimetype": "text/x-python",
   "name": "python",
   "nbconvert_exporter": "python",
   "pygments_lexer": "ipython3",
   "version": "3.7.4"
  }
 },
 "nbformat": 4,
 "nbformat_minor": 2
}
